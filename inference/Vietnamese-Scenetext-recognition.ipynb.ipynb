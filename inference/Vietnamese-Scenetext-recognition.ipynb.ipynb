{
  "cells": [
    {
      "cell_type": "code",
      "execution_count": 2,
      "metadata": {
        "colab": {
          "base_uri": "https://localhost:8080/"
        },
        "id": "E7KfPjD6m2dW",
        "outputId": "1d6fbb53-66c5-463b-ca4b-255cbf97e27a"
      },
      "outputs": [
        {
          "name": "stdout",
          "output_type": "stream",
          "text": [
            "/home/ttd/hcmai/aic2024/multimedia-retrieval/inference/Vietnamese-Scenetext-Recognition\n"
          ]
        }
      ],
      "source": [
        "# !git clone https://github.com/NGUYENKHANH-UT/Vietnamese-Scenetext-Recognition.git\n",
        "\n",
        "\n",
        "\n",
        "%cd Vietnamese-Scenetext-Recognition"
      ]
    },
    {
      "cell_type": "code",
      "execution_count": 3,
      "metadata": {
        "colab": {
          "base_uri": "https://localhost:8080/"
        },
        "id": "Y-QGM9nfosDe",
        "outputId": "862c1018-d95a-4458-c238-db4329d749d0"
      },
      "outputs": [
        {
          "name": "stdout",
          "output_type": "stream",
          "text": [
            "Requirement already satisfied: torch in /home/ttd/anaconda3/envs/test_ocr/lib/python3.12/site-packages (from -r requirements.txt (line 1)) (2.4.0)\n",
            "Requirement already satisfied: torchvision in /home/ttd/anaconda3/envs/test_ocr/lib/python3.12/site-packages (from -r requirements.txt (line 2)) (0.19.0)\n",
            "Requirement already satisfied: opencv-python in /home/ttd/anaconda3/envs/test_ocr/lib/python3.12/site-packages (from -r requirements.txt (line 3)) (4.10.0.84)\n",
            "Requirement already satisfied: scikit-image in /home/ttd/anaconda3/envs/test_ocr/lib/python3.12/site-packages (from -r requirements.txt (line 4)) (0.24.0)\n",
            "Requirement already satisfied: scipy in /home/ttd/anaconda3/envs/test_ocr/lib/python3.12/site-packages (from -r requirements.txt (line 5)) (1.14.0)\n",
            "Requirement already satisfied: vietocr in /home/ttd/anaconda3/envs/test_ocr/lib/python3.12/site-packages (from -r requirements.txt (line 6)) (0.3.13)\n",
            "Requirement already satisfied: filelock in /home/ttd/anaconda3/envs/test_ocr/lib/python3.12/site-packages (from torch->-r requirements.txt (line 1)) (3.15.4)\n",
            "Requirement already satisfied: typing-extensions>=4.8.0 in /home/ttd/anaconda3/envs/test_ocr/lib/python3.12/site-packages (from torch->-r requirements.txt (line 1)) (4.12.2)\n",
            "Requirement already satisfied: sympy in /home/ttd/anaconda3/envs/test_ocr/lib/python3.12/site-packages (from torch->-r requirements.txt (line 1)) (1.13.1)\n",
            "Requirement already satisfied: networkx in /home/ttd/anaconda3/envs/test_ocr/lib/python3.12/site-packages (from torch->-r requirements.txt (line 1)) (3.3)\n",
            "Requirement already satisfied: jinja2 in /home/ttd/anaconda3/envs/test_ocr/lib/python3.12/site-packages (from torch->-r requirements.txt (line 1)) (3.1.4)\n",
            "Requirement already satisfied: fsspec in /home/ttd/anaconda3/envs/test_ocr/lib/python3.12/site-packages (from torch->-r requirements.txt (line 1)) (2024.6.1)\n",
            "Requirement already satisfied: setuptools in /home/ttd/anaconda3/envs/test_ocr/lib/python3.12/site-packages (from torch->-r requirements.txt (line 1)) (72.1.0)\n",
            "Requirement already satisfied: nvidia-cuda-nvrtc-cu12==12.1.105 in /home/ttd/anaconda3/envs/test_ocr/lib/python3.12/site-packages (from torch->-r requirements.txt (line 1)) (12.1.105)\n",
            "Requirement already satisfied: nvidia-cuda-runtime-cu12==12.1.105 in /home/ttd/anaconda3/envs/test_ocr/lib/python3.12/site-packages (from torch->-r requirements.txt (line 1)) (12.1.105)\n",
            "Requirement already satisfied: nvidia-cuda-cupti-cu12==12.1.105 in /home/ttd/anaconda3/envs/test_ocr/lib/python3.12/site-packages (from torch->-r requirements.txt (line 1)) (12.1.105)\n",
            "Requirement already satisfied: nvidia-cudnn-cu12==9.1.0.70 in /home/ttd/anaconda3/envs/test_ocr/lib/python3.12/site-packages (from torch->-r requirements.txt (line 1)) (9.1.0.70)\n",
            "Requirement already satisfied: nvidia-cublas-cu12==12.1.3.1 in /home/ttd/anaconda3/envs/test_ocr/lib/python3.12/site-packages (from torch->-r requirements.txt (line 1)) (12.1.3.1)\n",
            "Requirement already satisfied: nvidia-cufft-cu12==11.0.2.54 in /home/ttd/anaconda3/envs/test_ocr/lib/python3.12/site-packages (from torch->-r requirements.txt (line 1)) (11.0.2.54)\n",
            "Requirement already satisfied: nvidia-curand-cu12==10.3.2.106 in /home/ttd/anaconda3/envs/test_ocr/lib/python3.12/site-packages (from torch->-r requirements.txt (line 1)) (10.3.2.106)\n",
            "Requirement already satisfied: nvidia-cusolver-cu12==11.4.5.107 in /home/ttd/anaconda3/envs/test_ocr/lib/python3.12/site-packages (from torch->-r requirements.txt (line 1)) (11.4.5.107)\n",
            "Requirement already satisfied: nvidia-cusparse-cu12==12.1.0.106 in /home/ttd/anaconda3/envs/test_ocr/lib/python3.12/site-packages (from torch->-r requirements.txt (line 1)) (12.1.0.106)\n",
            "Requirement already satisfied: nvidia-nccl-cu12==2.20.5 in /home/ttd/anaconda3/envs/test_ocr/lib/python3.12/site-packages (from torch->-r requirements.txt (line 1)) (2.20.5)\n",
            "Requirement already satisfied: nvidia-nvtx-cu12==12.1.105 in /home/ttd/anaconda3/envs/test_ocr/lib/python3.12/site-packages (from torch->-r requirements.txt (line 1)) (12.1.105)\n",
            "Requirement already satisfied: triton==3.0.0 in /home/ttd/anaconda3/envs/test_ocr/lib/python3.12/site-packages (from torch->-r requirements.txt (line 1)) (3.0.0)\n",
            "Requirement already satisfied: nvidia-nvjitlink-cu12 in /home/ttd/anaconda3/envs/test_ocr/lib/python3.12/site-packages (from nvidia-cusolver-cu12==11.4.5.107->torch->-r requirements.txt (line 1)) (12.6.20)\n",
            "Requirement already satisfied: numpy in /home/ttd/anaconda3/envs/test_ocr/lib/python3.12/site-packages (from torchvision->-r requirements.txt (line 2)) (2.0.1)\n",
            "Requirement already satisfied: pillow!=8.3.*,>=5.3.0 in /home/ttd/anaconda3/envs/test_ocr/lib/python3.12/site-packages (from torchvision->-r requirements.txt (line 2)) (10.2.0)\n",
            "Requirement already satisfied: imageio>=2.33 in /home/ttd/anaconda3/envs/test_ocr/lib/python3.12/site-packages (from scikit-image->-r requirements.txt (line 4)) (2.34.2)\n",
            "Requirement already satisfied: tifffile>=2022.8.12 in /home/ttd/anaconda3/envs/test_ocr/lib/python3.12/site-packages (from scikit-image->-r requirements.txt (line 4)) (2024.7.24)\n",
            "Requirement already satisfied: packaging>=21 in /home/ttd/anaconda3/envs/test_ocr/lib/python3.12/site-packages (from scikit-image->-r requirements.txt (line 4)) (24.1)\n",
            "Requirement already satisfied: lazy-loader>=0.4 in /home/ttd/anaconda3/envs/test_ocr/lib/python3.12/site-packages (from scikit-image->-r requirements.txt (line 4)) (0.4)\n",
            "Requirement already satisfied: einops==0.2.0 in /home/ttd/anaconda3/envs/test_ocr/lib/python3.12/site-packages (from vietocr->-r requirements.txt (line 6)) (0.2.0)\n",
            "Requirement already satisfied: gdown==4.4.0 in /home/ttd/anaconda3/envs/test_ocr/lib/python3.12/site-packages (from vietocr->-r requirements.txt (line 6)) (4.4.0)\n",
            "Requirement already satisfied: prefetch-generator==1.0.1 in /home/ttd/anaconda3/envs/test_ocr/lib/python3.12/site-packages (from vietocr->-r requirements.txt (line 6)) (1.0.1)\n",
            "Requirement already satisfied: imgaug==0.4.0 in /home/ttd/anaconda3/envs/test_ocr/lib/python3.12/site-packages (from vietocr->-r requirements.txt (line 6)) (0.4.0)\n",
            "Requirement already satisfied: albumentations==1.4.2 in /home/ttd/anaconda3/envs/test_ocr/lib/python3.12/site-packages (from vietocr->-r requirements.txt (line 6)) (1.4.2)\n",
            "Requirement already satisfied: lmdb>=1.0.0 in /home/ttd/anaconda3/envs/test_ocr/lib/python3.12/site-packages (from vietocr->-r requirements.txt (line 6)) (1.5.1)\n",
            "Requirement already satisfied: PyYAML in /home/ttd/anaconda3/envs/test_ocr/lib/python3.12/site-packages (from albumentations==1.4.2->vietocr->-r requirements.txt (line 6)) (6.0.2)\n",
            "Requirement already satisfied: scikit-learn>=1.3.2 in /home/ttd/anaconda3/envs/test_ocr/lib/python3.12/site-packages (from albumentations==1.4.2->vietocr->-r requirements.txt (line 6)) (1.5.1)\n",
            "Requirement already satisfied: opencv-python-headless>=4.9.0 in /home/ttd/anaconda3/envs/test_ocr/lib/python3.12/site-packages (from albumentations==1.4.2->vietocr->-r requirements.txt (line 6)) (4.10.0.84)\n",
            "Requirement already satisfied: requests[socks] in /home/ttd/anaconda3/envs/test_ocr/lib/python3.12/site-packages (from gdown==4.4.0->vietocr->-r requirements.txt (line 6)) (2.32.3)\n",
            "Requirement already satisfied: six in /home/ttd/anaconda3/envs/test_ocr/lib/python3.12/site-packages (from gdown==4.4.0->vietocr->-r requirements.txt (line 6)) (1.16.0)\n",
            "Requirement already satisfied: tqdm in /home/ttd/anaconda3/envs/test_ocr/lib/python3.12/site-packages (from gdown==4.4.0->vietocr->-r requirements.txt (line 6)) (4.66.5)\n",
            "Requirement already satisfied: beautifulsoup4 in /home/ttd/anaconda3/envs/test_ocr/lib/python3.12/site-packages (from gdown==4.4.0->vietocr->-r requirements.txt (line 6)) (4.12.3)\n",
            "Requirement already satisfied: matplotlib in /home/ttd/anaconda3/envs/test_ocr/lib/python3.12/site-packages (from imgaug==0.4.0->vietocr->-r requirements.txt (line 6)) (3.9.1.post1)\n",
            "Requirement already satisfied: Shapely in /home/ttd/anaconda3/envs/test_ocr/lib/python3.12/site-packages (from imgaug==0.4.0->vietocr->-r requirements.txt (line 6)) (2.0.5)\n",
            "Requirement already satisfied: MarkupSafe>=2.0 in /home/ttd/anaconda3/envs/test_ocr/lib/python3.12/site-packages (from jinja2->torch->-r requirements.txt (line 1)) (2.1.5)\n",
            "Requirement already satisfied: mpmath<1.4,>=1.1.0 in /home/ttd/anaconda3/envs/test_ocr/lib/python3.12/site-packages (from sympy->torch->-r requirements.txt (line 1)) (1.3.0)\n",
            "Requirement already satisfied: joblib>=1.2.0 in /home/ttd/anaconda3/envs/test_ocr/lib/python3.12/site-packages (from scikit-learn>=1.3.2->albumentations==1.4.2->vietocr->-r requirements.txt (line 6)) (1.4.2)\n",
            "Requirement already satisfied: threadpoolctl>=3.1.0 in /home/ttd/anaconda3/envs/test_ocr/lib/python3.12/site-packages (from scikit-learn>=1.3.2->albumentations==1.4.2->vietocr->-r requirements.txt (line 6)) (3.5.0)\n",
            "Requirement already satisfied: soupsieve>1.2 in /home/ttd/anaconda3/envs/test_ocr/lib/python3.12/site-packages (from beautifulsoup4->gdown==4.4.0->vietocr->-r requirements.txt (line 6)) (2.5)\n",
            "Requirement already satisfied: contourpy>=1.0.1 in /home/ttd/anaconda3/envs/test_ocr/lib/python3.12/site-packages (from matplotlib->imgaug==0.4.0->vietocr->-r requirements.txt (line 6)) (1.2.1)\n",
            "Requirement already satisfied: cycler>=0.10 in /home/ttd/anaconda3/envs/test_ocr/lib/python3.12/site-packages (from matplotlib->imgaug==0.4.0->vietocr->-r requirements.txt (line 6)) (0.12.1)\n",
            "Requirement already satisfied: fonttools>=4.22.0 in /home/ttd/anaconda3/envs/test_ocr/lib/python3.12/site-packages (from matplotlib->imgaug==0.4.0->vietocr->-r requirements.txt (line 6)) (4.53.1)\n",
            "Requirement already satisfied: kiwisolver>=1.3.1 in /home/ttd/anaconda3/envs/test_ocr/lib/python3.12/site-packages (from matplotlib->imgaug==0.4.0->vietocr->-r requirements.txt (line 6)) (1.4.5)\n",
            "Requirement already satisfied: pyparsing>=2.3.1 in /home/ttd/anaconda3/envs/test_ocr/lib/python3.12/site-packages (from matplotlib->imgaug==0.4.0->vietocr->-r requirements.txt (line 6)) (3.1.2)\n",
            "Requirement already satisfied: python-dateutil>=2.7 in /home/ttd/anaconda3/envs/test_ocr/lib/python3.12/site-packages (from matplotlib->imgaug==0.4.0->vietocr->-r requirements.txt (line 6)) (2.9.0)\n",
            "Requirement already satisfied: charset-normalizer<4,>=2 in /home/ttd/anaconda3/envs/test_ocr/lib/python3.12/site-packages (from requests[socks]->gdown==4.4.0->vietocr->-r requirements.txt (line 6)) (3.3.2)\n",
            "Requirement already satisfied: idna<4,>=2.5 in /home/ttd/anaconda3/envs/test_ocr/lib/python3.12/site-packages (from requests[socks]->gdown==4.4.0->vietocr->-r requirements.txt (line 6)) (3.7)\n",
            "Requirement already satisfied: urllib3<3,>=1.21.1 in /home/ttd/anaconda3/envs/test_ocr/lib/python3.12/site-packages (from requests[socks]->gdown==4.4.0->vietocr->-r requirements.txt (line 6)) (2.2.2)\n",
            "Requirement already satisfied: certifi>=2017.4.17 in /home/ttd/anaconda3/envs/test_ocr/lib/python3.12/site-packages (from requests[socks]->gdown==4.4.0->vietocr->-r requirements.txt (line 6)) (2024.7.4)\n",
            "Requirement already satisfied: PySocks!=1.5.7,>=1.5.6 in /home/ttd/anaconda3/envs/test_ocr/lib/python3.12/site-packages (from requests[socks]->gdown==4.4.0->vietocr->-r requirements.txt (line 6)) (1.7.1)\n"
          ]
        }
      ],
      "source": [
        "!pip install -r requirements.txt"
      ]
    },
    {
      "cell_type": "code",
      "execution_count": 4,
      "metadata": {},
      "outputs": [
        {
          "name": "stdout",
          "output_type": "stream",
          "text": [
            "Requirement already satisfied: kaggle in /home/ttd/anaconda3/envs/test_ocr/lib/python3.12/site-packages (1.6.17)\n",
            "Requirement already satisfied: six>=1.10 in /home/ttd/anaconda3/envs/test_ocr/lib/python3.12/site-packages (from kaggle) (1.16.0)\n",
            "Requirement already satisfied: certifi>=2023.7.22 in /home/ttd/anaconda3/envs/test_ocr/lib/python3.12/site-packages (from kaggle) (2024.7.4)\n",
            "Requirement already satisfied: python-dateutil in /home/ttd/anaconda3/envs/test_ocr/lib/python3.12/site-packages (from kaggle) (2.9.0)\n",
            "Requirement already satisfied: requests in /home/ttd/anaconda3/envs/test_ocr/lib/python3.12/site-packages (from kaggle) (2.32.3)\n",
            "Requirement already satisfied: tqdm in /home/ttd/anaconda3/envs/test_ocr/lib/python3.12/site-packages (from kaggle) (4.66.5)\n",
            "Requirement already satisfied: python-slugify in /home/ttd/anaconda3/envs/test_ocr/lib/python3.12/site-packages (from kaggle) (8.0.4)\n",
            "Requirement already satisfied: urllib3 in /home/ttd/anaconda3/envs/test_ocr/lib/python3.12/site-packages (from kaggle) (2.2.2)\n",
            "Requirement already satisfied: bleach in /home/ttd/anaconda3/envs/test_ocr/lib/python3.12/site-packages (from kaggle) (6.1.0)\n",
            "Requirement already satisfied: webencodings in /home/ttd/anaconda3/envs/test_ocr/lib/python3.12/site-packages (from bleach->kaggle) (0.5.1)\n",
            "Requirement already satisfied: text-unidecode>=1.3 in /home/ttd/anaconda3/envs/test_ocr/lib/python3.12/site-packages (from python-slugify->kaggle) (1.3)\n",
            "Requirement already satisfied: charset-normalizer<4,>=2 in /home/ttd/anaconda3/envs/test_ocr/lib/python3.12/site-packages (from requests->kaggle) (3.3.2)\n",
            "Requirement already satisfied: idna<4,>=2.5 in /home/ttd/anaconda3/envs/test_ocr/lib/python3.12/site-packages (from requests->kaggle) (3.7)\n"
          ]
        }
      ],
      "source": [
        "!pip install kaggle"
      ]
    },
    {
      "cell_type": "code",
      "execution_count": 5,
      "metadata": {
        "colab": {
          "base_uri": "https://localhost:8080/"
        },
        "id": "QRQBAAuPwNK8",
        "outputId": "f8fa091a-476d-437e-b07f-88425df630de"
      },
      "outputs": [],
      "source": [
        "\n",
        "# !mkdir Keyframes\n",
        "# %cd Keyframes\n",
        "# !kaggle datasets download -d nguyenthanhkhanh/one-keyframes\n",
        "# !unzip -q one-keyframes.zip\n",
        "# !rm -rf one-keyframes.zip"
      ]
    },
    {
      "cell_type": "code",
      "execution_count": 6,
      "metadata": {
        "colab": {
          "base_uri": "https://localhost:8080/"
        },
        "id": "HTxmW1yu5sOV",
        "outputId": "24a5754f-746b-4a0e-9a3a-a334af41fa45"
      },
      "outputs": [
        {
          "name": "stdout",
          "output_type": "stream",
          "text": [
            "/home/ttd/hcmai/aic2024/multimedia-retrieval/inference/Vietnamese-Scenetext-Recognition/src/craft\n",
            "mkdir: cannot create directory ‘weights’: File exists\n",
            "/home/ttd/hcmai/aic2024/multimedia-retrieval/inference/Vietnamese-Scenetext-Recognition/src/craft/weights\n",
            "/home/ttd/anaconda3/envs/test_ocr/lib/python3.12/site-packages/gdown/cli.py:127: FutureWarning: Option `--id` was deprecated in version 4.3.1 and will be removed in 5.0. You don't need to pass it anymore to use a file ID.\n",
            "  warnings.warn(\n",
            "Downloading...\n",
            "From: https://drive.google.com/uc?id=1Jk4eGD7crsqCCg9C9VjCLkMN3ze8kutZ\n",
            "To: /home/ttd/hcmai/aic2024/multimedia-retrieval/inference/Vietnamese-Scenetext-Recognition/src/craft/weights/craft_mlt_25k.pth\n",
            "100%|██████████████████████████████████████| 83.2M/83.2M [00:04<00:00, 17.3MB/s]\n",
            "/home/ttd/anaconda3/envs/test_ocr/lib/python3.12/site-packages/gdown/cli.py:127: FutureWarning: Option `--id` was deprecated in version 4.3.1 and will be removed in 5.0. You don't need to pass it anymore to use a file ID.\n",
            "  warnings.warn(\n",
            "Downloading...\n",
            "From: https://drive.google.com/uc?id=1XSaFwBkOaFOdtk4Ane3DFyJGPRw6v5bO\n",
            "To: /home/ttd/hcmai/aic2024/multimedia-retrieval/inference/Vietnamese-Scenetext-Recognition/src/craft/weights/craft_refiner_CTW1500.pth\n",
            "100%|██████████████████████████████████████| 1.85M/1.85M [00:00<00:00, 8.53MB/s]\n",
            "/home/ttd/hcmai/aic2024/multimedia-retrieval/inference/Vietnamese-Scenetext-Recognition\n"
          ]
        }
      ],
      "source": [
        "\n",
        "%cd src/craft\n",
        "!mkdir weights\n",
        "%cd weights\n",
        "!gdown --id 1Jk4eGD7crsqCCg9C9VjCLkMN3ze8kutZ\n",
        "!gdown --id 1XSaFwBkOaFOdtk4Ane3DFyJGPRw6v5bO\n",
        "%cd ../../.."
      ]
    },
    {
      "cell_type": "code",
      "execution_count": 7,
      "metadata": {
        "id": "aGsEhQ7nnlQz"
      },
      "outputs": [],
      "source": [
        "import numpy as np\n",
        "from PIL import Image\n",
        "import cv2\n",
        "import os\n",
        "import json\n",
        "import glob\n",
        "from tqdm import tqdm\n",
        "from types import SimpleNamespace\n",
        "\n",
        "# Import custom modules\n",
        "from src.utils.four_points_transform import four_points_transform\n",
        "from src.utils.encode_base64 import encode_base64\n",
        "\n",
        "from src.craft.craft_predict import predict_craft, str2bool\n",
        "from src.vietocr.vietocr_predict import predict_vietocr\n",
        "\n",
        "from src.craft.load_model import load_model_craft\n",
        "from src.vietocr.load_model import load_model_vietocr\n",
        "\n",
        "from src.utils.group_text_box import group_text_box\n",
        "from src.craft.craft import CRAFT\n"
      ]
    },
    {
      "cell_type": "code",
      "execution_count": 8,
      "metadata": {
        "id": "DDZJx1CD5WoK"
      },
      "outputs": [],
      "source": [
        "args = SimpleNamespace(\n",
        "    trained_model='src/craft/weights/craft_mlt_25k.pth',\n",
        "    text_threshold=0.7,\n",
        "    low_text=0.4,\n",
        "    link_threshold=0.4,\n",
        "    cuda=True,  # Nếu bạn có GPU và muốn sử dụng, hãy thay đổi thành True\n",
        "    canvas_size=1280,\n",
        "    mag_ratio=1.5,\n",
        "    poly=False,\n",
        "    show_time=False,\n",
        "    refine=False,\n",
        "    refiner_model='src/craft/weights/craft_refiner_CTW1500.pth'\n",
        ")\n"
      ]
    },
    {
      "cell_type": "code",
      "execution_count": 9,
      "metadata": {
        "id": "80BzQF_CsSxo"
      },
      "outputs": [],
      "source": [
        "keyframes_dir = './Keyframes'\n",
        "all_keyframe_paths = dict()\n",
        "for part in sorted(os.listdir(keyframes_dir)):\n",
        "    #data_part = part.split('_')[-1] # L01, L02 for ex\n",
        "    all_keyframe_paths[part] =  dict()\n",
        "\n",
        "for data_part in sorted(all_keyframe_paths.keys()):\n",
        "    data_part_path = f'{keyframes_dir}/{data_part}'\n",
        "    video_dirs = sorted(os.listdir(data_part_path))\n",
        "    video_ids = [video_dir.split('_')[-1] for video_dir in video_dirs]\n",
        "    for video_id, video_dir in zip(video_ids, video_dirs):\n",
        "        keyframe_paths = sorted(glob.glob(f'{data_part_path}/{video_dir}/*.jpg'))\n",
        "        all_keyframe_paths[data_part][video_id] = keyframe_paths"
      ]
    },
    {
      "cell_type": "code",
      "execution_count": 10,
      "metadata": {
        "colab": {
          "base_uri": "https://localhost:8080/"
        },
        "id": "6SUadhbLs-fJ",
        "outputId": "91cf54c7-7024-42a3-9c3a-1d075ab49a03"
      },
      "outputs": [
        {
          "name": "stderr",
          "output_type": "stream",
          "text": [
            "/home/ttd/anaconda3/envs/test_ocr/lib/python3.12/site-packages/torchvision/models/_utils.py:208: UserWarning: The parameter 'pretrained' is deprecated since 0.13 and may be removed in the future, please use 'weights' instead.\n",
            "  warnings.warn(\n",
            "/home/ttd/anaconda3/envs/test_ocr/lib/python3.12/site-packages/torchvision/models/_utils.py:223: UserWarning: Arguments other than a weight enum or `None` for 'weights' are deprecated since 0.13 and may be removed in the future. The current behavior is equivalent to passing `weights=None`.\n",
            "  warnings.warn(msg)\n"
          ]
        },
        {
          "name": "stdout",
          "output_type": "stream",
          "text": [
            "Loading weights from checkpoint (src/craft/weights/craft_mlt_25k.pth)\n"
          ]
        },
        {
          "name": "stderr",
          "output_type": "stream",
          "text": [
            "/home/ttd/hcmai/aic2024/multimedia-retrieval/inference/Vietnamese-Scenetext-Recognition/src/craft/load_model.py:20: FutureWarning: You are using `torch.load` with `weights_only=False` (the current default value), which uses the default pickle module implicitly. It is possible to construct malicious pickle data which will execute arbitrary code during unpickling (See https://github.com/pytorch/pytorch/blob/main/SECURITY.md#untrusted-models for more details). In a future release, the default value for `weights_only` will be flipped to `True`. This limits the functions that could be executed during unpickling. Arbitrary objects will no longer be allowed to be loaded via this mode unless they are explicitly allowlisted by the user via `torch.serialization.add_safe_globals`. We recommend you start setting `weights_only=True` for any use case where you don't have full control of the loaded file. Please open an issue on GitHub for any issues related to this experimental feature.\n",
            "  net.load_state_dict(copyStateDict(torch.load(args.trained_model)))\n",
            "/home/ttd/anaconda3/envs/test_ocr/lib/python3.12/site-packages/torch/nn/modules/transformer.py:307: UserWarning: enable_nested_tensor is True, but self.use_nested_tensor is False because encoder_layer.self_attn.batch_first was not True(use batch_first for better inference performance)\n",
            "  warnings.warn(f\"enable_nested_tensor is True, but self.use_nested_tensor is False because {why_not_sparsity_fast_path}\")\n",
            "/home/ttd/anaconda3/envs/test_ocr/lib/python3.12/site-packages/vietocr/tool/predictor.py:20: FutureWarning: You are using `torch.load` with `weights_only=False` (the current default value), which uses the default pickle module implicitly. It is possible to construct malicious pickle data which will execute arbitrary code during unpickling (See https://github.com/pytorch/pytorch/blob/main/SECURITY.md#untrusted-models for more details). In a future release, the default value for `weights_only` will be flipped to `True`. This limits the functions that could be executed during unpickling. Arbitrary objects will no longer be allowed to be loaded via this mode unless they are explicitly allowlisted by the user via `torch.serialization.add_safe_globals`. We recommend you start setting `weights_only=True` for any use case where you don't have full control of the loaded file. Please open an issue on GitHub for any issues related to this experimental feature.\n",
            "  model.load_state_dict(torch.load(weights, map_location=torch.device(device)))\n"
          ]
        },
        {
          "name": "stdout",
          "output_type": "stream",
          "text": [
            "Model weight /tmp/vgg_transformer.pth exsits. Ignore download!\n"
          ]
        }
      ],
      "source": [
        "net, refine_net = load_model_craft(args=args)\n",
        "detector = load_model_vietocr()"
      ]
    },
    {
      "cell_type": "code",
      "execution_count": null,
      "metadata": {},
      "outputs": [],
      "source": []
    },
    {
      "cell_type": "code",
      "execution_count": 12,
      "metadata": {},
      "outputs": [
        {
          "name": "stderr",
          "output_type": "stream",
          "text": [
            "  0%|          | 0/1 [00:00<?, ?it/s]"
          ]
        },
        {
          "name": "stdout",
          "output_type": "stream",
          "text": [
            "Finished ocr frame in 0.4661090140000397 seconds\n",
            "Finished ocr frame in 0.24265417800006617 seconds\n",
            "Finished ocr frame in 0.12576654999998027 seconds\n",
            "Finished ocr frame in 1.094475599999896 seconds\n",
            "Finished ocr frame in 0.6559753480000836 seconds\n",
            "Finished ocr frame in 1.258808596000108 seconds\n",
            "Finished ocr frame in 1.0131494949998796 seconds\n",
            "Finished ocr frame in 0.3985676700001477 seconds\n",
            "Finished ocr frame in 0.38596577099997376 seconds\n",
            "Finished ocr frame in 0.47991380000007666 seconds\n",
            "Finished ocr frame in 0.47592541100016206 seconds\n",
            "Finished ocr frame in 0.41623630000003686 seconds\n",
            "Finished ocr frame in 0.5137243230001332 seconds\n",
            "Finished ocr frame in 0.4647799639999448 seconds\n",
            "Finished ocr frame in 0.4528819229999499 seconds\n",
            "Finished ocr frame in 1.1302315129998988 seconds\n",
            "Finished ocr frame in 0.2723766709998472 seconds\n",
            "Finished ocr frame in 0.5851309160000255 seconds\n",
            "Finished ocr frame in 1.1859638450000602 seconds\n",
            "Finished ocr frame in 0.9343596090000119 seconds\n",
            "Finished ocr frame in 1.0486896510001316 seconds\n",
            "Finished ocr frame in 0.867893802000026 seconds\n",
            "Finished ocr frame in 1.340225369999871 seconds\n",
            "Finished ocr frame in 0.6982470709999689 seconds\n",
            "Finished ocr frame in 0.555276122000123 seconds\n",
            "Finished ocr frame in 0.537933171999839 seconds\n",
            "Finished ocr frame in 0.7707267139999203 seconds\n",
            "Finished ocr frame in 0.5986437900000965 seconds\n",
            "Finished ocr frame in 0.8840198399998371 seconds\n",
            "Finished ocr frame in 1.0842902710001 seconds\n",
            "Finished ocr frame in 1.363637615000016 seconds\n",
            "Finished ocr frame in 1.0514425839999149 seconds\n",
            "Finished ocr frame in 0.5401096189998498 seconds\n",
            "Finished ocr frame in 0.5615672190001533 seconds\n",
            "Finished ocr frame in 0.7464566500000274 seconds\n",
            "Finished ocr frame in 0.555402653000101 seconds\n",
            "Finished ocr frame in 0.6401986769999439 seconds\n",
            "Finished ocr frame in 0.8144708840000021 seconds\n",
            "Finished ocr frame in 0.9801515939998353 seconds\n",
            "Finished ocr frame in 0.6290913779998846 seconds\n",
            "Finished ocr frame in 0.5443280819999927 seconds\n",
            "Finished ocr frame in 0.6354744739999205 seconds\n",
            "Finished ocr frame in 0.4682668289999583 seconds\n",
            "Finished ocr frame in 0.5601573219998954 seconds\n",
            "Finished ocr frame in 0.5868998020000618 seconds\n",
            "Finished ocr frame in 0.5323921710000832 seconds\n",
            "Finished ocr frame in 0.7415099659999669 seconds\n",
            "Finished ocr frame in 0.7667222329998822 seconds\n",
            "Finished ocr frame in 0.8165478580001491 seconds\n",
            "Finished ocr frame in 0.5434783079999761 seconds\n"
          ]
        }
      ],
      "source": [
        "from timeit import default_timer as timer\n",
        "\n",
        "save_dir = './ocr'\n",
        "if not os.path.exists(save_dir):\n",
        "    os.mkdir(save_dir)\n",
        "\n",
        "keys = sorted(all_keyframe_paths.keys())\n",
        "for key in tqdm(keys):\n",
        "    video_keyframe_paths = all_keyframe_paths[key]\n",
        "    video_ids = sorted(video_keyframe_paths.keys())\n",
        "\n",
        "    if not os.path.exists(os.path.join(save_dir, key)):\n",
        "        os.mkdir(os.path.join(save_dir, key))\n",
        "\n",
        "    video_ocr_results, image_ocr_result = [], []\n",
        "\n",
        "    for video_id in tqdm(video_ids):\n",
        "        video_keyframe_path = video_keyframe_paths[video_id]\n",
        "        video_ocr_results = []\n",
        "\n",
        "        for i in range(len(video_keyframe_path)):\n",
        "            s = timer()\n",
        "            \n",
        "            image_path = video_keyframe_path[i]\n",
        "            main_image = cv2.imread(image_path)\n",
        "            boxes = predict_craft(net, refine_net, image_path=image_path, args=args)\n",
        "            boxes = group_text_box(boxes)\n",
        "\n",
        "            # rec phase\n",
        "            for count, box in enumerate(boxes):\n",
        "                image_ocr_result = []\n",
        "                # cat anh ra va convert to PIL\n",
        "                sub_img = four_points_transform(main_image, np.array(box, dtype='float32'))\n",
        "                # write content\n",
        "                box = [list(map(int, i)) for i in box]\n",
        "                box = [list(map(lambda x: max(x, 0) ,i)) for i in box]\n",
        "\n",
        "\n",
        "                # ap dung can bang sang\n",
        "                # sub_img = histogram_equalzed_rgb(sub_img)\n",
        "                sub_img = cv2.cvtColor(sub_img, cv2.COLOR_BGR2RGB)\n",
        "                sub_img = Image.fromarray(sub_img)\n",
        "\n",
        "                # predict with vietocr\n",
        "                (pred, prob) = predict_vietocr(detector, sub_img)\n",
        "\n",
        "                # write to txt\n",
        "                if prob > 0.5:\n",
        "                  image_ocr_result.append(pred)\n",
        "\n",
        "            video_ocr_results.append(image_ocr_result)\n",
        "            \n",
        "            e = timer()\n",
        "            print(f'Finished ocr frame in {e-s} seconds')\n",
        "            \n",
        "              \n",
        "        with open(f'{save_dir}/{key}/{video_id}.json',\"w\", encoding='utf-8') as jsonfile:\n",
        "            \n",
        "            json.dump(video_ocr_results, jsonfile, ensure_ascii=False)"
      ]
    },
    {
      "cell_type": "code",
      "execution_count": null,
      "metadata": {
        "colab": {
          "base_uri": "https://localhost:8080/",
          "height": 280
        },
        "id": "ZLGXg3CLsekI",
        "outputId": "5255770d-1633-4cdb-d31d-e62aee132400"
      },
      "outputs": [
        {
          "name": "stderr",
          "output_type": "stream",
          "text": [
            "  0%|          | 0/1 [00:00<?, ?it/s]"
          ]
        },
        {
          "name": "stdout",
          "output_type": "stream",
          "text": [
            "2246\n",
            "Craft time: 29.713171440991573\n",
            "Num batches =  5\n"
          ]
        },
        {
          "name": "stderr",
          "output_type": "stream",
          "text": [
            "100%|██████████| 1/1 [03:10<00:00, 190.03s/it]\n",
            "100%|██████████| 1/1 [03:10<00:00, 190.03s/it]"
          ]
        },
        {
          "name": "stdout",
          "output_type": "stream",
          "text": [
            "VietOCR time: 149.639736290992\n"
          ]
        },
        {
          "name": "stderr",
          "output_type": "stream",
          "text": [
            "\n"
          ]
        }
      ],
      "source": [
        "# from timeit import default_timer as timer\n",
        "\n",
        "# batch_size = 512  # You can set this to your desired batch size\n",
        "\n",
        "# save_dir = './ocr'\n",
        "# if not os.path.exists(save_dir):\n",
        "#     os.mkdir(save_dir)\n",
        "\n",
        "# keys = sorted(all_keyframe_paths.keys())\n",
        "# for key in tqdm(keys):\n",
        "#     video_keyframe_paths = all_keyframe_paths[key]\n",
        "#     video_ids = sorted(video_keyframe_paths.keys())\n",
        "\n",
        "#     if not os.path.exists(os.path.join(save_dir, key)):\n",
        "#         os.mkdir(os.path.join(save_dir, key))\n",
        "\n",
        "#     for video_id in tqdm(video_ids):\n",
        "#         video_keyframe_path = video_keyframe_paths[video_id]\n",
        "\n",
        "#         sub_img_list = []\n",
        "#         boxes_len = []\n",
        "        \n",
        "#         craft_s = timer()\n",
        "#         for i in range(len(video_keyframe_path)):\n",
        "#             image_path = video_keyframe_path[i]\n",
        "#             main_image = cv2.imread(image_path)\n",
        "\n",
        "#             boxes = predict_craft(net, refine_net, image_path=image_path, args=args)\n",
        "#             boxes = group_text_box(boxes)\n",
        "            \n",
        "#             boxes_len.append(len(boxes))\n",
        "\n",
        "#             for count, box in enumerate(boxes):\n",
        "#                 # Transform the image and convert to PIL\n",
        "#                 sub_img = four_points_transform(main_image, np.array(box, dtype='float32'))\n",
        "#                 sub_img = cv2.cvtColor(sub_img, cv2.COLOR_BGR2RGB)\n",
        "#                 sub_img = Image.fromarray(sub_img)\n",
        "#                 sub_img_list.append(sub_img)\n",
        "\n",
        "#         craft_e = timer()\n",
        "#         print(len(sub_img_list))\n",
        "#         print(f'Craft time: {craft_e - craft_s}')\n",
        "        \n",
        "        \n",
        "#         total_length = len(sub_img_list)\n",
        "#         num_batches = (total_length + batch_size - 1) // batch_size\n",
        "#         print('Num batches = ', num_batches)\n",
        "#         ocr_results = []\n",
        "#         probs = []\n",
        "        \n",
        "#         vietocr_s = timer()\n",
        "#         for batch_idx in range(num_batches):\n",
        "#             batch_start = batch_idx * batch_size\n",
        "#             batch_end = min((batch_idx + 1) * batch_size, total_length)\n",
        "#             batch_images = sub_img_list[batch_start:batch_end]\n",
        "            \n",
        "#             (pred, prob) = predict_vietocr(detector, batch_images, True)\n",
        "            \n",
        "#             # Truncate the results to the actual batch size\n",
        "#             pred = pred[:batch_end - batch_start]\n",
        "#             prob = prob[:batch_end - batch_start]\n",
        "            \n",
        "#             ocr_results.extend(pred)\n",
        "#             probs.extend(prob)\n",
        "        \n",
        "#         vietocr_e = timer()\n",
        "#         print(f'VietOCR time: {vietocr_e - vietocr_s}')\n",
        "        \n",
        "#         video_ocr = []\n",
        "#         prob_results = []   \n",
        "#         start = 0\n",
        "#         for length in boxes_len:\n",
        "#             end = start + length\n",
        "#             video_ocr.append(ocr_results[start:end])\n",
        "#             prob_results.append(probs[start:end])\n",
        "#             start = end\n",
        "        \n",
        "#         video_ocr_results = []\n",
        "#         for pred, prob in zip(video_ocr, prob_results):\n",
        "#             res = [pred[i] for i in range(len(pred)) if prob[i] > 0.5]\n",
        "#             video_ocr_results.append(res)\n",
        "        \n",
        "#         with open(f'{save_dir}/{key}/{video_id}.json',\"w\", encoding='utf-8') as jsonfile:\n",
        "#             json.dump(video_ocr_results, jsonfile, ensure_ascii=False)"
      ]
    }
  ],
  "metadata": {
    "accelerator": "GPU",
    "colab": {
      "gpuType": "T4",
      "provenance": []
    },
    "kernelspec": {
      "display_name": "Python 3",
      "name": "python3"
    },
    "language_info": {
      "codemirror_mode": {
        "name": "ipython",
        "version": 3
      },
      "file_extension": ".py",
      "mimetype": "text/x-python",
      "name": "python",
      "nbconvert_exporter": "python",
      "pygments_lexer": "ipython3",
      "version": "3.12.4"
    }
  },
  "nbformat": 4,
  "nbformat_minor": 0
}
